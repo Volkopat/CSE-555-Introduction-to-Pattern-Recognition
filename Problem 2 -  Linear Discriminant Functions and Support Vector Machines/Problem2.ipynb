{
 "cells": [
  {
   "cell_type": "markdown",
   "id": "7ff64ca8-988c-4928-9081-5d462bf6adf1",
   "metadata": {
    "id": "08fc690e-ea31-4caa-9968-45f9106184fd"
   },
   "source": [
    "## Task 1: Write code to train a multi-class support vector classifier with dot-product kernel and 1- norm soft margin using the MNIST training data set. Then report the performance using MNIST test data set. There is a hyper-parameter that sets the trade-off between the margin and the training error — tune this hyper-parameter through cross-validation."
   ]
  },
  {
   "cell_type": "markdown",
   "id": "bfeb2d3c-0c9b-4094-ab65-779ffccf98e8",
   "metadata": {},
   "source": [
    "### Linear Support Vector Classifier"
   ]
  },
  {
   "cell_type": "code",
   "execution_count": 26,
   "id": "10bc8ff2-415a-4c0f-93e4-e12d1a5fb1b9",
   "metadata": {
    "id": "10bc8ff2-415a-4c0f-93e4-e12d1a5fb1b9"
   },
   "outputs": [],
   "source": [
    "import pandas as pd\n",
    "import numpy as np\n",
    "import matplotlib.pyplot as plt\n",
    "from collections import defaultdict"
   ]
  },
  {
   "cell_type": "code",
   "execution_count": 2,
   "id": "88aa17ba-f5d8-43ce-8fbd-9383e4bb701b",
   "metadata": {
    "id": "88aa17ba-f5d8-43ce-8fbd-9383e4bb701b"
   },
   "outputs": [],
   "source": [
    "# train_img_file = 'train-images.idx3-ubyte'\n",
    "# train_label_file = 'train-labels.idx1-ubyte'\n",
    "# test_img_file = 't10k-images.idx3-ubyte'\n",
    "# test_label_file = 't10k-labels.idx1-ubyte'"
   ]
  },
  {
   "cell_type": "code",
   "execution_count": 3,
   "id": "b0bd252d-cc7c-42c0-9ec4-1b27482df307",
   "metadata": {
    "id": "b0bd252d-cc7c-42c0-9ec4-1b27482df307"
   },
   "outputs": [],
   "source": [
    "# def convert(imgf, labelf, outf, n):\n",
    "#     f = open(imgf, \"rb\")\n",
    "#     o = open(outf, \"w\")\n",
    "#     l = open(labelf, \"rb\")\n",
    "\n",
    "#     f.read(16)\n",
    "#     l.read(8)\n",
    "#     images = []\n",
    "\n",
    "#     for i in range(n):\n",
    "#         image = [ord(l.read(1))]\n",
    "#         for j in range(28*28):\n",
    "#             image.append(ord(f.read(1)))\n",
    "#         images.append(image)\n",
    "\n",
    "#     for image in images:\n",
    "#         o.write(\",\".join(str(pix) for pix in image)+\"\\n\")\n",
    "#     f.close()\n",
    "#     o.close()\n",
    "#     l.close()\n",
    "\n",
    "# convert(train_img_file, train_label_file, \"mnist_train.csv\", 60000)\n",
    "# convert(test_img_file, test_label_file, \"mnist_test.csv\", 10000)\n",
    "\n",
    "# #Reference: https://pjreddie.com/projects/mnist-in-csv/"
   ]
  },
  {
   "cell_type": "code",
   "execution_count": 4,
   "id": "cd15a5be-928c-45fe-8501-e82f8c2dfb33",
   "metadata": {
    "id": "cd15a5be-928c-45fe-8501-e82f8c2dfb33"
   },
   "outputs": [],
   "source": [
    "train_data = np.loadtxt(\"Dataset/mnist_train.csv\", delimiter=\",\")\n",
    "test_data = np.loadtxt(\"Dataset/mnist_test.csv\", delimiter=\",\")"
   ]
  },
  {
   "cell_type": "code",
   "execution_count": 5,
   "id": "8bb4fc7c-b645-4bc2-bf8a-978d2c0de846",
   "metadata": {
    "id": "8bb4fc7c-b645-4bc2-bf8a-978d2c0de846"
   },
   "outputs": [],
   "source": [
    "# Train test split\n",
    "\n",
    "x_train = []\n",
    "y_train = []\n",
    "x_test = []\n",
    "y_test = []\n",
    "for i in range(len(train_data)):\n",
    "    x_train.append(train_data[i][1:])\n",
    "    y_train.append(train_data[i][:1])\n",
    "for i in range(len(test_data)):\n",
    "    x_test.append(test_data[i][1:])\n",
    "    y_test.append(test_data[i][:1])\n",
    "    \n",
    "x_train = np.array(x_train)\n",
    "x_test = np.array(x_test)\n",
    "y_train = np.array(y_train)\n",
    "y_test = np.array(y_test)"
   ]
  },
  {
   "cell_type": "code",
   "execution_count": 6,
   "id": "6b145fc8-9fdd-42e1-8196-1b0ff23d6b20",
   "metadata": {
    "id": "6b145fc8-9fdd-42e1-8196-1b0ff23d6b20"
   },
   "outputs": [],
   "source": [
    "# Testing the sklearn results\n",
    "\n",
    "# from sklearn.preprocessing import StandardScaler\n",
    "# sc = StandardScaler()\n",
    "# x_train = sc.fit_transform(x_train)\n",
    "# x_test = sc.transform(x_test)"
   ]
  },
  {
   "cell_type": "code",
   "execution_count": 7,
   "id": "_1DyDqn4P0a5",
   "metadata": {
    "id": "_1DyDqn4P0a5"
   },
   "outputs": [],
   "source": [
    "# print(x_test[0].shape)\n",
    "# print(x_test[0])"
   ]
  },
  {
   "cell_type": "code",
   "execution_count": 8,
   "id": "0Eb2X946QFuH",
   "metadata": {
    "colab": {
     "base_uri": "https://localhost:8080/"
    },
    "id": "0Eb2X946QFuH",
    "outputId": "ccd2d974-7eab-4989-8c68-24b01149eda0"
   },
   "outputs": [
    {
     "name": "stderr",
     "output_type": "stream",
     "text": [
      "<ipython-input-8-ebc496bfd4d6>:17: RuntimeWarning: invalid value encountered in true_divide\n",
      "  x_train[i] = (x_train[i] - x_train_mean) / x_train_std\n",
      "<ipython-input-8-ebc496bfd4d6>:21: RuntimeWarning: invalid value encountered in true_divide\n",
      "  x_test[i] = (x_test[i] - x_train_mean) / x_train_std\n",
      "<ipython-input-8-ebc496bfd4d6>:21: RuntimeWarning: divide by zero encountered in true_divide\n",
      "  x_test[i] = (x_test[i] - x_train_mean) / x_train_std\n"
     ]
    }
   ],
   "source": [
    "# Implementing Standard Scaler\n",
    "\n",
    "# Finding Mean\n",
    "x_train_sum = 0\n",
    "for i in x_train:\n",
    "  x_train_sum += i\n",
    "x_train_mean = x_train_sum/len(x_train)\n",
    "\n",
    "# Finding Standard Deviation\n",
    "x_train_sum = 0\n",
    "for i in x_train:\n",
    "  x_train_sum += np.power((i - x_train_mean),2)\n",
    "x_train_std = np.sqrt(x_train_sum/len(x_train))\n",
    "\n",
    "# Finding Z\n",
    "for i in range(len(x_train)):\n",
    "  x_train[i] = (x_train[i] - x_train_mean) / x_train_std\n",
    "  x_train[i] = np.nan_to_num(x_train[i])\n",
    "\n",
    "for i in range(len(x_test)):\n",
    "  x_test[i] = (x_test[i] - x_train_mean) / x_train_std\n",
    "  x_test[i] = np.nan_to_num(x_test[i])"
   ]
  },
  {
   "cell_type": "code",
   "execution_count": 9,
   "id": "QVzewLAZR0NS",
   "metadata": {
    "id": "QVzewLAZR0NS"
   },
   "outputs": [],
   "source": [
    "# print(x_test[0].shape)\n",
    "# print(x_test[0])"
   ]
  },
  {
   "cell_type": "code",
   "execution_count": 10,
   "id": "4bd57fe5-2ed3-4e76-95b2-71e0d425d1ec",
   "metadata": {},
   "outputs": [],
   "source": [
    "def projection_simplex(v , z = 1):\n",
    "    n = v.shape[0]\n",
    "    u = np.sort(v)[::-1]\n",
    "    cssv = np.cumsum(u) - z\n",
    "    ind = np.arange(n) + 1\n",
    "    cond = u - cssv / ind > 0\n",
    "    rho = ind[cond][-1]\n",
    "    theta = cssv[cond][-1] / float(rho)\n",
    "    w = np.maximum(v - theta, 0)\n",
    "    return w\n",
    "\n",
    "def partial_gradient(x_train, y_train, i, primal_coef):\n",
    "    # Partial gradient for the ith sample.\n",
    "    g = np.dot(x_train[i], primal_coef.T) + 1\n",
    "    g[y_train[i]] -= 1\n",
    "    return g\n",
    "\n",
    "def violation(g, y_train, i, dual_coef):\n",
    "    # Optimality violation for the ith sample.\n",
    "    smallest = np.inf\n",
    "    for k in range(g.shape[0]):\n",
    "        if k == y[i] and dual_coef[k, i] >= C:\n",
    "            continue\n",
    "        elif k != y[i] and dual_coef[k, i] >= 0:\n",
    "            continue\n",
    "\n",
    "        smallest = min(smallest, g[k])\n",
    "\n",
    "    return g.max() - smallest\n",
    "\n",
    "def solve_subproblem(g, y_train, norms, i, dual_coef):\n",
    "    # Prepare inputs to the projection.\n",
    "    Ci = np.zeros(g.shape[0])\n",
    "    Ci[y[i]] = C\n",
    "    beta_hat = norms[i] * (Ci - dual_coef[:, i]) + g / norms[i]\n",
    "    z = C * norms[i]\n",
    "\n",
    "    # Compute projection onto the simplex.\n",
    "    beta = projection_simplex(beta_hat, z)\n",
    "\n",
    "    return Ci - dual_coef[:, i] - beta / norms[i]\n",
    "\n",
    "def predict(x_test, primal_coef):\n",
    "    decision = np.dot(x_test, primal_coef.T)\n",
    "    y_pred = decision.argmax(axis=1)\n",
    "    return y_pred"
   ]
  },
  {
   "cell_type": "code",
   "execution_count": 28,
   "id": "96016f83-28f8-46f1-950c-8f88a3e43a30",
   "metadata": {},
   "outputs": [],
   "source": [
    "# Linear Support Vector Classifier\n",
    "\n",
    "C_list = [0.001, 0.01, 0.1, 1, 10, 100, 1000] # Hyperparameter Tuning via Cross Validation\n",
    "y_pred_list = []\n",
    "\n",
    "for idx in range(len(C_list)):\n",
    "    C = C_list[idx]\n",
    "    s, f = x_train.shape\n",
    "    y = []\n",
    "    for i in y_train:\n",
    "        y.append(int(i))\n",
    "    y = np.asarray(y)\n",
    "    # Initialize primal and dual coefficients.\n",
    "    c = len(np.unique(y))\n",
    "    dual_coef = np.zeros((c,s), dtype = np.float64)\n",
    "    primal_coef = np.zeros((c,f))\n",
    "    # Pre-compute norms.\n",
    "    x = np.square(x_train)\n",
    "    norms = np.sqrt(np.sum(x, axis=1))\n",
    "\n",
    "    violation_init = None\n",
    "    for it in range(50):\n",
    "        violation_sum = 0\n",
    "        for i in range(s):\n",
    "            if norms[i] == 0:\n",
    "                continue\n",
    "\n",
    "            g = partial_gradient(x_train, y, i, primal_coef)\n",
    "            v = violation(g, y, i, dual_coef)\n",
    "            violation_sum += v\n",
    "\n",
    "            if v < 1e-12:\n",
    "                continue\n",
    "\n",
    "            delta = solve_subproblem(g, y, norms, i, dual_coef)\n",
    "            primal_coef += (delta * x_train[i][:,np.newaxis]).T\n",
    "            dual_coef[:, i] += delta\n",
    "\n",
    "        if it == 0:\n",
    "            violation_init = violation_sum\n",
    "\n",
    "        vratio = violation_sum / violation_init\n",
    "        \n",
    "    y_pred = predict(x_test, primal_coef)\n",
    "    y_pred_list.append(y_pred)\n",
    "    "
   ]
  },
  {
   "cell_type": "code",
   "execution_count": 32,
   "id": "74dea632-9de1-4d58-8d59-89d8d97849d5",
   "metadata": {
    "id": "74dea632-9de1-4d58-8d59-89d8d97849d5"
   },
   "outputs": [],
   "source": [
    "# Testing the sklearn results\n",
    "\n",
    "# from sklearn.svm import SVC\n",
    "# classifier = SVC(kernel = 'linear', random_state = 0)\n",
    "# classifier.fit(x_train, y_train)"
   ]
  },
  {
   "cell_type": "code",
   "execution_count": 33,
   "id": "ZfCf_SHxhif-",
   "metadata": {
    "colab": {
     "base_uri": "https://localhost:8080/"
    },
    "id": "ZfCf_SHxhif-",
    "outputId": "13d53619-c9fd-43cc-cb88-bd203eee4c26"
   },
   "outputs": [],
   "source": [
    "# y_pred = classifier.predict(x_test)"
   ]
  },
  {
   "cell_type": "code",
   "execution_count": 34,
   "id": "8_Oo5zGehNa2",
   "metadata": {
    "colab": {
     "base_uri": "https://localhost:8080/"
    },
    "id": "8_Oo5zGehNa2",
    "outputId": "a9ebf0fb-dda4-4c1f-8255-f9a0b0181da2"
   },
   "outputs": [],
   "source": [
    "#Testing the sklearn Confusion Matrix\n",
    "\n",
    "# from sklearn.metrics import confusion_matrix\n",
    "\n",
    "# cm = confusion_matrix(y_test, y_pred)\n",
    "# print(cm)"
   ]
  },
  {
   "cell_type": "code",
   "execution_count": 35,
   "id": "b41cc3c6-4855-4dd1-97de-eed214eae351",
   "metadata": {},
   "outputs": [],
   "source": [
    "# Confusion Matrix\n",
    "\n",
    "confusion_matrix = np.zeros([c, c])\n",
    "count = 0\n",
    "for i in range(len(y_test)):\n",
    "    if y_pred[i] == y_test[i]:\n",
    "        count += 1\n",
    "        confusion_matrix[int(y_test[i])][int(y_test[i])] = confusion_matrix[int(y_test[i])][int(y_test[i])]+1 #True Positives\n",
    "    else:\n",
    "        for k in range(c):\n",
    "            if y_pred[i] == k:\n",
    "                confusion_matrix[int(y_test[k])][int(y_test[i])] = confusion_matrix[int(y_test[k])][int(y_test[i])]+1 #False Positives"
   ]
  },
  {
   "cell_type": "code",
   "execution_count": 36,
   "id": "8e2abe0b-0cf8-405c-b84b-13078f50a01c",
   "metadata": {},
   "outputs": [
    {
     "data": {
      "text/plain": [
       "[Text(0.5, 69.0, 'Predictions'), Text(159.0, 0.5, 'Actual Values')]"
      ]
     },
     "execution_count": 36,
     "metadata": {},
     "output_type": "execute_result"
    },
    {
     "data": {
      "image/png": "[encoded data removed]",
      "text/plain": [
       "<Figure size 1440x720 with 2 Axes>"
      ]
     },
     "metadata": {
      "needs_background": "light"
     },
     "output_type": "display_data"
    }
   ],
   "source": [
    "import seaborn as sns\n",
    "\n",
    "# print(confusion_matrix)\n",
    "plt.figure(figsize = (20,10))\n",
    "\n",
    "sns.heatmap(confusion_matrix, annot=True, fmt='.1f', cmap='Blues').set(xlabel=\"Predictions\", ylabel=\"Actual Values\")"
   ]
  },
  {
   "cell_type": "code",
   "execution_count": 37,
   "id": "d61f0882-b3a7-4ef9-b47e-fb48e1aee3e4",
   "metadata": {},
   "outputs": [],
   "source": [
    "# Getting the TP,TN,FP,FN of each digit\n",
    "\n",
    "true_positives = []\n",
    "false_positives = []\n",
    "false_negatives = []\n",
    "true_negatives = []\n",
    "tn_sum = 0\n",
    "for i in range(c):\n",
    "    fp_sum = 0\n",
    "    fn_sum = 0\n",
    "    true_positives.append(confusion_matrix[int(i)][int(i)]) #Append individual true positives\n",
    "    tn_sum += confusion_matrix[int(i)][int(i)]\n",
    "    for j in range(c):\n",
    "        if i == j:\n",
    "            continue\n",
    "        fp_sum += confusion_matrix[int(j)][int(i)]\n",
    "        fn_sum += confusion_matrix[int(i)][int(j)]\n",
    "    false_positives.append(fp_sum) #Append individual false positives\n",
    "    false_negatives.append(fn_sum) #Append individual false negatives\n",
    "    \n",
    "for i in range(c):\n",
    "    true_negatives.append(tn_sum - true_positives[i])"
   ]
  },
  {
   "cell_type": "code",
   "execution_count": 38,
   "id": "de92bc98-84d6-4421-b629-25c10d4413e7",
   "metadata": {},
   "outputs": [],
   "source": [
    "# Classification Accuracy = Correct Predictions/All existing images\n",
    "overall_accuracy = count/len(x_test) * 100"
   ]
  },
  {
   "cell_type": "code",
   "execution_count": 39,
   "id": "dd3bd37d-bc67-49f1-8091-49a5dc55fccb",
   "metadata": {},
   "outputs": [],
   "source": [
    "# Getting the Precision, Recall and F1 score for each digit.\n",
    "digit_accuracy = [0 for i in range(c)]\n",
    "digit_precision = [0 for i in range(c)]\n",
    "digit_recall = [0 for i in range(c)]\n",
    "digit_f1score = [0 for i in range(c)]\n",
    "\n",
    "for i in range(c):\n",
    "    digit_accuracy[i] = (true_positives[i]+true_negatives[i])/(true_positives[i]+false_positives[i]+true_negatives[i]+false_negatives[i])\n",
    "    digit_precision[i] = true_positives[i]/(true_positives[i]+false_positives[i])\n",
    "    digit_recall[i] = true_positives[i]/(true_positives[i]+false_negatives[i])\n",
    "    digit_f1score[i] = 2 * ((digit_precision[i] * digit_recall[i])/(digit_precision[i] + digit_recall[i]))"
   ]
  },
  {
   "cell_type": "code",
   "execution_count": 40,
   "id": "07f14458-287e-4fbe-b79d-d04b4cd01053",
   "metadata": {},
   "outputs": [
    {
     "name": "stdout",
     "output_type": "stream",
     "text": [
      "Accuracy of the Linear Support Vector Classifier:  87.03 %\n"
     ]
    }
   ],
   "source": [
    "print(\"Accuracy of the Linear Support Vector Classifier: \",round(overall_accuracy,2),\"%\")"
   ]
  },
  {
   "cell_type": "code",
   "execution_count": 41,
   "id": "aa90ee45-7616-402b-b0a5-7731a7965ebd",
   "metadata": {},
   "outputs": [
    {
     "name": "stdout",
     "output_type": "stream",
     "text": [
      "Digit: 0 , Accuracy: 96.71 % , Precision: 97.14 % , Recall: 77.71 % , F1 Score: 86.35 %\n",
      "Digit: 1 , Accuracy: 96.97 % , Precision: 98.5 % , Recall: 81.19 % , F1 Score: 89.01 %\n",
      "Digit: 2 , Accuracy: 96.61 % , Precision: 78.0 % , Recall: 90.65 % , F1 Score: 83.85 %\n",
      "Digit: 3 , Accuracy: 98.72 % , Precision: 88.61 % , Recall: 100.0 % , F1 Score: 93.96 %\n",
      "Digit: 4 , Accuracy: 96.92 % , Precision: 89.31 % , Recall: 83.29 % , F1 Score: 86.19 %\n",
      "Digit: 5 , Accuracy: 97.42 % , Precision: 85.54 % , Recall: 87.9 % , F1 Score: 86.7 %\n",
      "Digit: 6 , Accuracy: 98.98 % , Precision: 90.5 % , Recall: 100.0 % , F1 Score: 95.01 %\n",
      "Digit: 7 , Accuracy: 97.87 % , Precision: 86.28 % , Recall: 94.56 % , F1 Score: 90.23 %\n",
      "Digit: 8 , Accuracy: 97.44 % , Precision: 76.18 % , Recall: 100.0 % , F1 Score: 86.48 %\n",
      "Digit: 9 , Accuracy: 96.76 % , Precision: 92.17 % , Recall: 81.08 % , F1 Score: 86.27 %\n"
     ]
    }
   ],
   "source": [
    "for i in range(c):\n",
    "    print(\"Digit:\",i,\", Accuracy:\",round(digit_accuracy[i]*100,2),\"%\",\", Precision:\",round(digit_precision[i]*100,2),\"%\",\", Recall:\",round(digit_recall[i]*100,2),\"%\",\", F1 Score:\",round(digit_f1score[i]*100,2),\"%\")"
   ]
  },
  {
   "cell_type": "markdown",
   "id": "16b0b2ad-ba49-4945-a6da-279e71382c7a",
   "metadata": {},
   "source": [
    "### Hyperparameter Tuning via Cross Validation"
   ]
  },
  {
   "cell_type": "code",
   "execution_count": 30,
   "id": "f698dc83-c81a-4fca-ba09-0397c50ef8cf",
   "metadata": {},
   "outputs": [],
   "source": [
    "# Since C hyperparameter ets the trade-off between the margin and the training error, we tune this hyper-parameter through cross-validation.\n",
    "\n",
    "count_list = []\n",
    "for j in range(len(y_pred_list)):\n",
    "    count = 0\n",
    "    for i in range(len(y_test)):\n",
    "        if y_pred_list[j][i] == y_test[i]:\n",
    "            count += 1\n",
    "    count_list.append(count)"
   ]
  },
  {
   "cell_type": "code",
   "execution_count": 31,
   "id": "5e2e24a4-0ae4-497f-ac69-54970e75a13e",
   "metadata": {},
   "outputs": [
    {
     "name": "stdout",
     "output_type": "stream",
     "text": [
      "Accuracy of the Linear Support Vector Classifier for C =  0.001  :  92.38 %\n",
      "Accuracy of the Linear Support Vector Classifier for C =  0.01  :  92.35 %\n",
      "Accuracy of the Linear Support Vector Classifier for C =  0.1  :  90.19 %\n",
      "Accuracy of the Linear Support Vector Classifier for C =  1  :  87.03 %\n",
      "Accuracy of the Linear Support Vector Classifier for C =  10  :  87.03 %\n",
      "Accuracy of the Linear Support Vector Classifier for C =  100  :  87.03 %\n",
      "Accuracy of the Linear Support Vector Classifier for C =  1000  :  87.03 %\n"
     ]
    }
   ],
   "source": [
    "# Displaying the performance of the SVM Classifier over multiple C values:\n",
    "\n",
    "for i in range(len(count_list)):\n",
    "    print(\"Accuracy of the Linear Support Vector Classifier for C = \",C_list[i],\" : \",round((count_list[i]/len(x_test) * 100),2),\"%\")"
   ]
  },
  {
   "cell_type": "markdown",
   "id": "d64a3267-d45a-4fec-8341-77fc8d644b8f",
   "metadata": {
    "id": "d64a3267-d45a-4fec-8341-77fc8d644b8f"
   },
   "source": [
    "## Task 2: Identify the Lagrange dual problem of the following primal problem:\n",
    "## Given features (x1,y1),...,(xN,yN), where y1,...,yN ∈ {−1,1}. Minimize   , the weighted sum between the squared length of the separating vector and the errors, where w is the separating vector, wT ·w is the dot product, and ξi is the error made by separating vector w on feature (xi,yi), subject to yi · (wT · xi) ≥ 1 − ξi and ξi ≥ 0 for i = 1,...,N. In other words, if the “normalized feature” yixi has a margin less than 1, wT · (yixi) ≤ 1, we add a slackness term to make it 1.\n",
    "## Point out what is the ”margin” in both the primal formulation and the dual formulation, what are the benefits of maximizing the margin. Characterize the support vectors. Point out the benefit of solving the dual problem instead of the primal problem."
   ]
  },
  {
   "cell_type": "markdown",
   "id": "71965f23-ed02-4e03-8462-f2fef9587e2a",
   "metadata": {},
   "source": [
    "\n",
    "\n",
    "\n",
    "\n",
    "### The objective of this task is to convert the primal problem to the dual problem, hence we first list the Karush–Kuhn–Tucker conditions to solve this problem. \n",
    "Allowing inequality constraints, the KKT approach to nonlinear programming generalizes the method of Lagrange multipliers, which allows only equality constraints. Similar to the Lagrange approach, the constrained maximization (minimization) problem is rewritten as a Lagrange function whose optimal point is a saddle point, i.e. a global maximum (minimum) over the domain of the choice variables and a global minimum (maximum) over the multipliers, which is why the Karush–Kuhn–Tucker theorem is sometimes referred to as the saddle-point theorem.\n",
    "\n",
    "We first declare the primal variables which are: $${w -> vector}, {b-> bias}, and, {\\epsilon-> slack}$$\n",
    "We also declare the dual variables: $${\\alpha}, and, {\\mu}$$\n",
    "\n",
    "The primal problem is written as:\n",
    "$$L = {\\dfrac{1}{2}}{w^T} . {w} + {C}{\\sum_{i=1}^{N} \\epsilon_{i}} - {\\alpha_{i}}{\\sum_{i=1}^{N} \\epsilon_{i}} [y_{i}({w^T}{x_{i}}+b)-1+\\epsilon_{i}] - {\\sum_{i=1}^{N} \\mu_{i}\\epsilon_{i}}$$\n",
    "\n",
    "The terms here are:\n",
    "$$ Regularization -> {\\dfrac{1}{2}}{w^T} . {w}, and, Penalty -> C$$\n",
    "\n",
    "We now partially differentiate this equation with respect to primal variables such as vector, bias and slack:\n",
    "$${\\dfrac{\\partial L}{\\partial w}} -> w = {\\sum_{i=1}^{N} \\alpha_{i}y_{i}x_{i}}$$\n",
    "$${\\dfrac{\\partial L}{\\partial b}} -> {\\sum_{i=1}^{N} \\alpha_{i}y_{i}} = 0$$\n",
    "$${\\dfrac{\\partial L}{\\partial \\epsilon}} -> \\alpha_{i} - \\mu_{i} = C$$\n",
    "\n",
    "Revising the primal equation to dual equation:\n",
    "$$L = {\\sum_{i=1}^{N} \\alpha_{i}} + {\\dfrac{1}{2}}{\\sum_{i=1,j=1}^{N} y_{i}y_{j}\\alpha_{i}\\alpha_{j}}{<x_{i}.x_{j}>}$$\n",
    "\n",
    "Where $${\\sum_{i=1}^{N} \\alpha_{i}y_{i}} = 0, and, \\alpha_{i} >= 0, and, \\mu_{i} >= 0$$"
   ]
  },
  {
   "cell_type": "markdown",
   "id": "5cb239b7-e814-4f77-91ce-011e7cd8bfa1",
   "metadata": {},
   "source": [
    "### We now calculate the margins for Primal and Dual Problem:\n",
    "We have two different features for two different classes in a binary classifier:\n",
    "$$ (x_{1},y_{1}) -> Class +1, and, (x_{2},y_{2}) -> Class -1$$\n",
    "We now have two equations:\n",
    "$$ wx_{1}+b = +1$$\n",
    "$$ wx_{2}+b = -1$$\n",
    "Hence: $$ w(x_{1} - x_{2})+b = 0$$\n",
    "Since vector w is perpendicular: $$ ||x_{1} - x_{2}|| = M$$\n",
    "\n",
    "Let x1 and x2 be two close points in their respective regions +1 and -1: $$ x_{2}+kw = x_{1}$$ where k is a constant\n",
    "We then substitute x1 in $$ wx_{1}+b = +1$$ resulting in $$ w(x_{2}+kw)+b = +1$$\n",
    "Then $$ wx_{2}+b + k||w||^2 = +1 $$ where $$ wx_{2}+b = -1$$\n",
    "Then $$ -1 + k||w||^2 = +1 $$\n",
    "$$ k||w||^2 = 2 $$\n",
    "Hence finally: $$ k = {\\dfrac{2}{||w||^2}} $$\n",
    "Since $$ ||x_{1} - x_{2}|| = M$$\n",
    "$$M = ||kw||$$\n",
    "$$M = {\\dfrac{2}{||w||^2}}.||w||$$\n",
    "\n",
    "We conclude Primal Margin $$M = {\\dfrac{2}{||w||}}$$"
   ]
  },
  {
   "cell_type": "markdown",
   "id": "bdaaa3f7-4f66-4e6f-b93a-44ce5d39c24e",
   "metadata": {},
   "source": [
    "Given the dual problem equation is to maximize L:\n",
    "$$max L = {\\sum_{i=1}^{N} \\alpha_{i}} + {\\dfrac{1}{2}}{\\sum_{i=1,j=1}^{N} y_{i}y_{j}\\alpha_{i}\\alpha_{j}}{<x_{i}.x_{j}>}$$\n",
    "We take derivative wrt alpha: $${\\sum_{i=1}^{N} \\alpha_{i}y_{i}} = 0$$ where $$0<=\\alpha_{i}<=C$$\n",
    "After finding alpha, we must now find the vector w for the highest margin of seperation: $${\\sum_{i=1}^{N} \\alpha_{i}y_{i}x_{i}} = w$$\n",
    "We further train to find the optimal vector w and test a new datapoint: $$(x_{i}.y_{i})$$ in equation: $$({\\sum_{i=1}^{N} \\alpha_{i}y_{i}x_{i}}) + b = f(x)$$\n",
    "To check if the new datapoint lies on the +1 region or -1 region. Hence we determined the margin for dual problem."
   ]
  },
  {
   "cell_type": "markdown",
   "id": "56a3381b-e31c-4ddc-b988-1a8d2ec60a24",
   "metadata": {},
   "source": [
    "### Characterizing the Support Vectors:\n",
    "As we know, w vector is a linear combination of x,y, alpha parameters. For every data point x, we assign an alpha value depending on the closeness to the hyperplane. the ones with the closest distance to the hyperplane is assigned a an alpha > 0 while the ones away from the hyperplane are given alpha = 0. The non zero alpha points are known as Support Vectors of an SVM."
   ]
  },
  {
   "cell_type": "markdown",
   "id": "6d69a315-35ea-4bcd-83a0-d2f11e14df8b",
   "metadata": {},
   "source": [
    "### From the above equations, we look to maximise the margins for a couple of reasons\n",
    "-> Maximising the margin M of a Support Vector Machine makes the model averse to overfitting and helps us to classify test examples better. A large margin gives more rom for new datapoints to differentiate between classes and this is better done when there is less overfitting.\n",
    "\n",
    "-> Maximum margin is also less error prone as classifications are done at the highest certainty compared to regression models. In between 2 classes, there is close to 50% chance a new data point could be +1 or -1 with less violations affecting the classification rate.\n",
    "\n",
    "-> Maximising the margin of an SVC can represent non-linear classification models."
   ]
  },
  {
   "cell_type": "markdown",
   "id": "f7fc1fd8-cd9c-4d9c-8638-ea5542f33815",
   "metadata": {},
   "source": [
    "### Benefits of solving the Dual Problem over the Primal Problem:\n",
    "-> Any feasible solution to the dual problem gives a bound on the optimal objective function value in the primal problem.\n",
    "\n",
    "-> Understanding the dual problem leads to specialized algorithms for some important classes of linear programming problems. Examples include the transportation simplex method, the Hungarian algorithm for the assignment problem, and the network simplex method.\n",
    "\n",
    "-> The dual can be helpful for sensitivity analysis. Changing the primal’s right-hand side constraint vector or adding a new constraint to it can make the original primal optimal solution infeasible. However, this only changes the objective function or adds a new variable to the dual, respectively, so the original dual optimal solution is still feasible (and is usually not far from the new dual optimal solution).\n",
    "\n",
    "-> The dual variables give the shadow prices for the primal constraints. Suppose you have a profit maximization problem with a resource constraint i. Then the value yi of the corresponding dual variable in the optimal solution tells you that you get an increase of yi in the maximum profit for each unit increase in the amount of resource i.\n",
    "\n",
    "-> Sometimes the dual is easier to solve. A primal problem with many constraints and few variables can be converted into a dual problem with few constraints and many variables (the fewer the constraints, the fewer computations required in each iteration of the simplex method)."
   ]
  },
  {
   "cell_type": "markdown",
   "id": "38a92683-7bdc-4c47-aba9-c6c21d6137c0",
   "metadata": {},
   "source": [
    "### References:\n",
    "-> http://www.cs.utsa.edu/~bylander/cs6243/svm.pdf (Maximising Margins, Coding)\n",
    "\n",
    "-> https://www.reisanar.com/files/Primal_Dual.pdf (Benefits of Solving Dual over Primal)\n",
    "\n",
    "-> https://www.cs.cmu.edu/~tom/10701_sp11/slides/Kernels_SVM2_04_12_2011-ann.pdf (Solving Dual Problem from Primal Problem)\n",
    "\n",
    "-> https://machinelearningmastery.com/support-vector-machines-for-machine-learning/ (Coding)\n",
    "\n",
    "-> https://web.mit.edu/6.034/wwwbob/svm-notes-long-08.pdf (Solving Dual Problem from Primal Problem)"
   ]
  },
  {
   "cell_type": "markdown",
   "id": "2e928809-4de1-4eb2-bbd9-0157a4cd055d",
   "metadata": {
    "id": "2e928809-4de1-4eb2-bbd9-0157a4cd055d"
   },
   "source": [
    "## Task 3: Formulate the primal problem and derive the dual problem if there are multiple classes."
   ]
  },
  {
   "cell_type": "code",
   "execution_count": null,
   "id": "f82ff60b-10a0-4c81-a2b3-8d712aac173b",
   "metadata": {
    "id": "f82ff60b-10a0-4c81-a2b3-8d712aac173b"
   },
   "outputs": [],
   "source": []
  }
 ],
 "metadata": {
  "accelerator": "TPU",
  "colab": {
   "collapsed_sections": [],
   "name": "Problem2.ipynb",
   "provenance": []
  },
  "kernelspec": {
   "display_name": "Python 3",
   "language": "python",
   "name": "python3"
  },
  "language_info": {
   "codemirror_mode": {
    "name": "ipython",
    "version": 3
   },
   "file_extension": ".py",
   "mimetype": "text/x-python",
   "name": "python",
   "nbconvert_exporter": "python",
   "pygments_lexer": "ipython3",
   "version": "3.8.8"
  }
 },
 "nbformat": 4,
 "nbformat_minor": 5
}
